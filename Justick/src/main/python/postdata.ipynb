{
 "cells": [
  {
   "cell_type": "code",
   "execution_count": null,
   "id": "28f0def5",
   "metadata": {},
   "outputs": [],
   "source": [
    "import csv\n",
    "import requests\n",
    "\n",
    "# 배추 상 전송\n",
    "\n",
    "# API URL\n",
    "url = \"http://localhost:8080/api/cabbage\"\n",
    "\n",
    "# CSV 파일 경로\n",
    "csv_file = \"data/CabbageHigh.csv\"\n",
    "\n",
    "# CSV 열 인덱스 참고\n",
    "with open(csv_file, newline='', encoding='utf-8') as f:\n",
    "  reader = csv.DictReader(f)\n",
    "\n",
    "  for row in reader:\n",
    "\n",
    "    data = {\n",
    "      \"year\": int(row[\"year\"]),\n",
    "      \"month\": int(row[\"month\"]),\n",
    "      \"day\": int(row[\"day\"]),\n",
    "      \"unit\": int(row[\"unit\"]),\n",
    "      \"intake\": int(row[\"intake\"]),\n",
    "      \"averagePrice\": int(row[\"avg_price\"]),\n",
    "      \"grade\": \"HIGH\" # 상 등급\n",
    "    }\n",
    "\n",
    "    response = requests.post(url, json=data)\n",
    "\n",
    "    if response.status_code == 200:\n",
    "      print(\"전송 성공\")\n",
    "    else:\n",
    "      print(f\"실패: {response.status_code} - {response.text}\")"
   ]
  },
  {
   "cell_type": "code",
   "execution_count": null,
   "id": "520d03eb",
   "metadata": {},
   "outputs": [
    {
     "ename": "NameError",
     "evalue": "name 'csv' is not defined",
     "output_type": "error",
     "traceback": [
      "\u001b[1;31m---------------------------------------------------------------------------\u001b[0m",
      "\u001b[1;31mNameError\u001b[0m                                 Traceback (most recent call last)",
      "Cell \u001b[1;32mIn[1], line 7\u001b[0m\n\u001b[0;32m      5\u001b[0m \u001b[38;5;66;03m# CSV 열 인덱스 참고\u001b[39;00m\n\u001b[0;32m      6\u001b[0m \u001b[38;5;28;01mwith\u001b[39;00m \u001b[38;5;28mopen\u001b[39m(csv_file, newline\u001b[38;5;241m=\u001b[39m\u001b[38;5;124m'\u001b[39m\u001b[38;5;124m'\u001b[39m, encoding\u001b[38;5;241m=\u001b[39m\u001b[38;5;124m'\u001b[39m\u001b[38;5;124mutf-8\u001b[39m\u001b[38;5;124m'\u001b[39m) \u001b[38;5;28;01mas\u001b[39;00m f:\n\u001b[1;32m----> 7\u001b[0m   reader \u001b[38;5;241m=\u001b[39m \u001b[43mcsv\u001b[49m\u001b[38;5;241m.\u001b[39mDictReader(f)\n\u001b[0;32m      9\u001b[0m   \u001b[38;5;28;01mfor\u001b[39;00m row \u001b[38;5;129;01min\u001b[39;00m reader:\n\u001b[0;32m     11\u001b[0m     data \u001b[38;5;241m=\u001b[39m {\n\u001b[0;32m     12\u001b[0m       \u001b[38;5;124m\"\u001b[39m\u001b[38;5;124myear\u001b[39m\u001b[38;5;124m\"\u001b[39m: \u001b[38;5;28mint\u001b[39m(row[\u001b[38;5;124m\"\u001b[39m\u001b[38;5;124myear\u001b[39m\u001b[38;5;124m\"\u001b[39m]),\n\u001b[0;32m     13\u001b[0m       \u001b[38;5;124m\"\u001b[39m\u001b[38;5;124mmonth\u001b[39m\u001b[38;5;124m\"\u001b[39m: \u001b[38;5;28mint\u001b[39m(row[\u001b[38;5;124m\"\u001b[39m\u001b[38;5;124mmonth\u001b[39m\u001b[38;5;124m\"\u001b[39m]),\n\u001b[1;32m   (...)\u001b[0m\n\u001b[0;32m     18\u001b[0m       \u001b[38;5;124m\"\u001b[39m\u001b[38;5;124mgrade\u001b[39m\u001b[38;5;124m\"\u001b[39m: \u001b[38;5;124m\"\u001b[39m\u001b[38;5;124mSPECIAL\u001b[39m\u001b[38;5;124m\"\u001b[39m  \u001b[38;5;66;03m# 특 등급\u001b[39;00m\n\u001b[0;32m     19\u001b[0m     }\n",
      "\u001b[1;31mNameError\u001b[0m: name 'csv' is not defined"
     ]
    }
   ],
   "source": [
    "import csv\n",
    "import requests\n",
    "\n",
    "# 배추 특 전송\n",
    "\n",
    "# API URL\n",
    "url = \"http://localhost:8080/api/cabbage\"\n",
    "\n",
    "csv_file = \"data/CabbageSpecial.csv\"\n",
    "\n",
    "# CSV 열 인덱스 참고\n",
    "with open(csv_file, newline='', encoding='utf-8') as f:\n",
    "  reader = csv.DictReader(f)\n",
    "\n",
    "  for row in reader:\n",
    "\n",
    "    data = {\n",
    "      \"year\": int(row[\"year\"]),\n",
    "      \"month\": int(row[\"month\"]),\n",
    "      \"day\": int(row[\"day\"]),\n",
    "      \"unit\": int(row[\"unit\"]),\n",
    "      \"intake\": int(row[\"intake\"]),\n",
    "      \"averagePrice\": int(row[\"avg_price\"]),\n",
    "      \"grade\": \"SPECIAL\"  # 특 등급\n",
    "    }\n",
    "\n",
    "    response = requests.post(url, json=data)\n",
    "\n",
    "    if response.status_code == 200:\n",
    "      print(\"전송 성공\")\n",
    "    else:\n",
    "      print(f\"실패: {response.status_code} - {response.text}\")"
   ]
  },
  {
   "cell_type": "code",
   "execution_count": 6,
   "id": "4bea76b4",
   "metadata": {},
   "outputs": [
    {
     "name": "stdout",
     "output_type": "stream",
     "text": [
      "전송 성공\n"
     ]
    }
   ],
   "source": [
    "import requests\n",
    "\n",
    "url = \"http://localhost:8080/api/predict\"\n",
    "\n",
    "data = {\n",
    "    \"name\": \"cabbage\",\n",
    "    \"category\": \"WEEK\",\n",
    "    \"grade\": \"HIGH\",\n",
    "    \"predictPrice\": 13000\n",
    "    }\n",
    "\n",
    "response = requests.post(url, json=data)\n",
    "\n",
    "if response.status_code == 200:\n",
    "    print(\"전송 성공\")\n",
    "else:\n",
    "    print(f\"실패: {response.status_code} - {response.text}\")"
   ]
  },
  {
   "cell_type": "code",
   "execution_count": 7,
   "id": "dce5576e",
   "metadata": {},
   "outputs": [
    {
     "name": "stdout",
     "output_type": "stream",
     "text": [
      "전송 성공\n"
     ]
    }
   ],
   "source": [
    "import requests\n",
    "\n",
    "url = \"http://localhost:8080/api/predict\"\n",
    "\n",
    "data = {\n",
    "    \"name\": \"cabbage\",\n",
    "    \"category\": \"MONTH\",\n",
    "    \"grade\": \"HIGH\",\n",
    "    \"predictPrice\": 15000\n",
    "    }\n",
    "\n",
    "response = requests.post(url, json=data)\n",
    "\n",
    "if response.status_code == 200:\n",
    "    print(\"전송 성공\")\n",
    "else:\n",
    "    print(f\"실패: {response.status_code} - {response.text}\")"
   ]
  }
 ],
 "metadata": {
  "kernelspec": {
   "display_name": "Python 3",
   "language": "python",
   "name": "python3"
  },
  "language_info": {
   "codemirror_mode": {
    "name": "ipython",
    "version": 3
   },
   "file_extension": ".py",
   "mimetype": "text/x-python",
   "name": "python",
   "nbconvert_exporter": "python",
   "pygments_lexer": "ipython3",
   "version": "3.12.2"
  }
 },
 "nbformat": 4,
 "nbformat_minor": 5
}
