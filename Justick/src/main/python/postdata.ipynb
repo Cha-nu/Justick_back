{
 "cells": [
  {
   "cell_type": "code",
   "execution_count": 10,
   "id": "28f0def5",
   "metadata": {},
   "outputs": [
    {
     "name": "stdout",
     "output_type": "stream",
     "text": [
      "전송 성공\n"
     ]
    }
   ],
   "source": [
    "import csv\n",
    "import requests\n",
    "from datetime import datetime, timedelta\n",
    "\n",
    "# 배추 상 전송\n",
    "\n",
    "# API URL\n",
    "url = \"http://211.211.151.18:2022/api/cabbage/batch\"\n",
    "\n",
    "# CSV 파일 경로\n",
    "csv_file = \"store/CabbageHigh.csv\"\n",
    "\n",
    "# 현재 날짜 기준 12개월 전 계산\n",
    "cutoff_date = datetime.now() - timedelta(days=365)\n",
    "\n",
    "# CSV 파일에서 데이터 읽기\n",
    "# CSV 파일의 첫 번째 줄은 헤더로 가정\n",
    "batch = []\n",
    "\n",
    "with open(csv_file, newline='', encoding='utf-8') as f:\n",
    "  reader = csv.DictReader(f)\n",
    "\n",
    "  for row in reader:\n",
    "    row_date = datetime(year=int(row[\"year\"]), month=int(row[\"month\"]), day=int(row[\"day\"]))\n",
    "    if row_date >= cutoff_date:\n",
    "      batch.append({\n",
    "        \"year\": int(row[\"year\"]),\n",
    "        \"month\": int(row[\"month\"]),\n",
    "        \"day\": int(row[\"day\"]),\n",
    "        \"intake\": int(row[\"intake\"]),\n",
    "        \"averagePrice\": int(row[\"avg_price\"]),\n",
    "        \"gap\": int(row[\"gap\"]),\n",
    "        \"grade\": \"HIGH\"\n",
    "      })\n",
    "\n",
    "if batch:\n",
    "  response = requests.post(url, json=batch)\n",
    "\n",
    "  if response.status_code == 200:\n",
    "    print(\"전송 성공\")\n",
    "  else:\n",
    "    print(f\"실패: {response.status_code} - {response.text}\")"
   ]
  },
  {
   "cell_type": "code",
   "execution_count": 11,
   "id": "520d03eb",
   "metadata": {},
   "outputs": [
    {
     "name": "stdout",
     "output_type": "stream",
     "text": [
      "전송 성공\n"
     ]
    }
   ],
   "source": [
    "import csv\n",
    "import requests\n",
    "from datetime import datetime, timedelta\n",
    "\n",
    "# 배추 상 전송\n",
    "\n",
    "# API URL\n",
    "url = \"http://211.211.151.18:2022/api/cabbage/batch\"\n",
    "\n",
    "# CSV 파일 경로\n",
    "csv_file = \"store/CabbageSpecial.csv\"\n",
    "\n",
    "# 현재 날짜 기준 12개월 전 계산\n",
    "cutoff_date = datetime.now() - timedelta(days=365)\n",
    "\n",
    "# CSV 파일에서 데이터 읽기\n",
    "# CSV 파일의 첫 번째 줄은 헤더로 가정\n",
    "batch = []\n",
    "\n",
    "with open(csv_file, newline='', encoding='utf-8') as f:\n",
    "  reader = csv.DictReader(f)\n",
    "\n",
    "  for row in reader:\n",
    "    row_date = datetime(year=int(row[\"year\"]), month=int(row[\"month\"]), day=int(row[\"day\"]))\n",
    "    if row_date >= cutoff_date:\n",
    "      batch.append({\n",
    "        \"year\": int(row[\"year\"]),\n",
    "        \"month\": int(row[\"month\"]),\n",
    "        \"day\": int(row[\"day\"]),\n",
    "        \"intake\": int(row[\"intake\"]),\n",
    "        \"averagePrice\": int(row[\"avg_price\"]),\n",
    "        \"gap\": int(row[\"gap\"]),\n",
    "        \"grade\": \"SPECIAL\"\n",
    "      })\n",
    "\n",
    "if batch:\n",
    "  response = requests.post(url, json=batch)\n",
    "\n",
    "  if response.status_code == 200:\n",
    "    print(\"전송 성공\")\n",
    "  else:\n",
    "    print(f\"실패: {response.status_code} - {response.text}\")"
   ]
  }
 ],
 "metadata": {
  "kernelspec": {
   "display_name": "Python 3",
   "language": "python",
   "name": "python3"
  },
  "language_info": {
   "codemirror_mode": {
    "name": "ipython",
    "version": 3
   },
   "file_extension": ".py",
   "mimetype": "text/x-python",
   "name": "python",
   "nbconvert_exporter": "python",
   "pygments_lexer": "ipython3",
   "version": "3.12.2"
  }
 },
 "nbformat": 4,
 "nbformat_minor": 5
}
