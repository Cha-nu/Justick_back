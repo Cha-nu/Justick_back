{
 "cells": [
  {
   "cell_type": "code",
   "execution_count": null,
   "id": "28f0def5",
   "metadata": {},
   "outputs": [
    {
     "name": "stdout",
     "output_type": "stream",
     "text": [
      "전송 성공\n"
     ]
    }
   ],
   "source": [
    "import csv\n",
    "import requests\n",
    "from datetime import datetime, timedelta\n",
    "\n",
    "url = \"http://211.211.151.18:2022/api/cabbage/batch\"\n",
    "csv_file = \"store/cabbage_separated.csv\"\n",
    "cutoff_date = datetime.now() - timedelta(days=365)\n",
    "\n",
    "batch = []\n",
    "\n",
    "with open(csv_file, newline='', encoding='utf-8') as f:\n",
    "  reader = csv.DictReader(f)\n",
    "  for row in reader:\n",
    "    row_date = datetime(year=int(row[\"year\"]), month=int(row[\"month\"]), day=int(row[\"day\"]))\n",
    "    if row_date >= cutoff_date and row[\"rate\"] == \"HIGH\":\n",
    "      batch.append({\n",
    "        \"year\": int(row[\"year\"]),\n",
    "        \"month\": int(row[\"month\"]),\n",
    "        \"day\": int(row[\"day\"]),\n",
    "        \"intake\": int(row[\"intake\"]),\n",
    "        \"averagePrice\": int(row[\"avg_price\"]),\n",
    "        \"gap\": int(row[\"gap\"]),\n",
    "        \"grade\": row[\"rate\"]\n",
    "      })\n",
    "\n",
    "if batch:\n",
    "  response = requests.post(url, json=batch)\n",
    "  if response.status_code == 200:\n",
    "    print(\"전송 성공\")\n",
    "  else:\n",
    "    print(f\"실패: {response.status_code} - {response.text}\")\n",
    "else:\n",
    "  print(\"전송할 데이터 없음\")\n"
   ]
  },
  {
   "cell_type": "code",
   "execution_count": 11,
   "id": "520d03eb",
   "metadata": {},
   "outputs": [
    {
     "name": "stdout",
     "output_type": "stream",
     "text": [
      "전송 성공\n"
     ]
    }
   ],
   "source": [
    "import csv\n",
    "import requests\n",
    "from datetime import datetime, timedelta\n",
    "\n",
    "# 배추 상 전송\n",
    "\n",
    "# API URL\n",
    "url = \"http://211.211.151.18:2022/api/cabbage/batch\"\n",
    "\n",
    "# CSV 파일 경로\n",
    "csv_file = \"store/CabbageSpecial.csv\"\n",
    "\n",
    "# 현재 날짜 기준 12개월 전 계산\n",
    "cutoff_date = datetime.now() - timedelta(days=365)\n",
    "\n",
    "# CSV 파일에서 데이터 읽기\n",
    "# CSV 파일의 첫 번째 줄은 헤더로 가정\n",
    "batch = []\n",
    "\n",
    "with open(csv_file, newline='', encoding='utf-8') as f:\n",
    "  reader = csv.DictReader(f)\n",
    "\n",
    "  for row in reader:\n",
    "    row_date = datetime(year=int(row[\"year\"]), month=int(row[\"month\"]), day=int(row[\"day\"]))\n",
    "    if row_date >= cutoff_date:\n",
    "      batch.append({\n",
    "        \"year\": int(row[\"year\"]),\n",
    "        \"month\": int(row[\"month\"]),\n",
    "        \"day\": int(row[\"day\"]),\n",
    "        \"intake\": int(row[\"intake\"]),\n",
    "        \"averagePrice\": int(row[\"avg_price\"]),\n",
    "        \"gap\": int(row[\"gap\"]),\n",
    "        \"grade\": \"SPECIAL\"\n",
    "      })\n",
    "\n",
    "if batch:\n",
    "  response = requests.post(url, json=batch)\n",
    "\n",
    "  if response.status_code == 200:\n",
    "    print(\"전송 성공\")\n",
    "  else:\n",
    "    print(f\"실패: {response.status_code} - {response.text}\")"
   ]
  },
  {
   "cell_type": "code",
   "execution_count": 3,
   "id": "e4a6f255",
   "metadata": {},
   "outputs": [
    {
     "name": "stdout",
     "output_type": "stream",
     "text": [
      "✅ 성공: {'year': 2025, 'month': 4, 'day': 10, 'averagePrice': 5742, 'gap': 0}\n",
      "✅ 성공: {'year': 2025, 'month': 4, 'day': 11, 'averagePrice': 5716, 'gap': -26}\n",
      "✅ 성공: {'year': 2025, 'month': 4, 'day': 14, 'averagePrice': 5719, 'gap': 3}\n",
      "✅ 성공: {'year': 2025, 'month': 4, 'day': 15, 'averagePrice': 5718, 'gap': -1}\n",
      "✅ 성공: {'year': 2025, 'month': 4, 'day': 16, 'averagePrice': 5706, 'gap': -12}\n",
      "✅ 성공: {'year': 2025, 'month': 4, 'day': 17, 'averagePrice': 5374, 'gap': -332}\n",
      "✅ 성공: {'year': 2025, 'month': 4, 'day': 18, 'averagePrice': 5346, 'gap': -28}\n",
      "✅ 성공: {'year': 2025, 'month': 4, 'day': 21, 'averagePrice': 5295, 'gap': -51}\n",
      "✅ 성공: {'year': 2025, 'month': 4, 'day': 22, 'averagePrice': 5263, 'gap': -32}\n",
      "✅ 성공: {'year': 2025, 'month': 4, 'day': 23, 'averagePrice': 5259, 'gap': -4}\n",
      "✅ 성공: {'year': 2025, 'month': 4, 'day': 24, 'averagePrice': 5036, 'gap': -223}\n",
      "✅ 성공: {'year': 2025, 'month': 4, 'day': 25, 'averagePrice': 5011, 'gap': -25}\n",
      "✅ 성공: {'year': 2025, 'month': 4, 'day': 28, 'averagePrice': 4984, 'gap': -27}\n",
      "✅ 성공: {'year': 2025, 'month': 4, 'day': 29, 'averagePrice': 4954, 'gap': -30}\n",
      "✅ 성공: {'year': 2025, 'month': 4, 'day': 30, 'averagePrice': 4951, 'gap': -3}\n",
      "✅ 성공: {'year': 2025, 'month': 5, 'day': 2, 'averagePrice': 5081, 'gap': 130}\n",
      "✅ 성공: {'year': 2025, 'month': 5, 'day': 7, 'averagePrice': 5105, 'gap': 24}\n",
      "✅ 성공: {'year': 2025, 'month': 5, 'day': 8, 'averagePrice': 4572, 'gap': -533}\n",
      "✅ 성공: {'year': 2025, 'month': 5, 'day': 9, 'averagePrice': 4351, 'gap': -221}\n"
     ]
    }
   ],
   "source": [
    "import pandas as pd\n",
    "import requests\n",
    "\n",
    "# CSV 파일 읽기\n",
    "df = pd.read_csv('store/cabbage_retail.csv')\n",
    "\n",
    "# 요청 보낼 URL\n",
    "url = 'http://211.211.151.18:2022/api/cabbage-retail'\n",
    "\n",
    "# 각 행마다 POST 요청\n",
    "for _, row in df.iterrows():\n",
    "    payload = {\n",
    "        \"year\": int(row['year']),\n",
    "        \"month\": int(row['month']),\n",
    "        \"day\": int(row['day']),\n",
    "        \"averagePrice\": int(row['avg_price']),\n",
    "        \"gap\": int(row['gap'])\n",
    "    }\n",
    "    \n",
    "    response = requests.post(url, json=payload)\n",
    "    \n",
    "    if response.status_code == 200:\n",
    "        print(f\"✅ 성공: {payload}\")\n",
    "    else:\n",
    "        print(f\"❌ 실패: {payload}, 응답코드: {response.status_code}, 응답내용: {response.text}\")\n"
   ]
  },
  {
   "cell_type": "code",
   "execution_count": 10,
   "id": "cdefebb6",
   "metadata": {},
   "outputs": [
    {
     "name": "stdout",
     "output_type": "stream",
     "text": [
      "전송 성공\n"
     ]
    }
   ],
   "source": [
    "import csv\n",
    "import requests\n",
    "from datetime import datetime, timedelta\n",
    "\n",
    "url = \"http://211.211.151.18:2022/api/tomato/batch\"\n",
    "csv_file = \"store/tomato_separated.csv\"\n",
    "cutoff_date = datetime.now() - timedelta(days=365)\n",
    "\n",
    "batch = []\n",
    "\n",
    "with open(csv_file, newline='', encoding='utf-8') as f:\n",
    "  reader = csv.DictReader(f)\n",
    "  for row in reader:\n",
    "    row_date = datetime(year=int(row[\"year\"]), month=int(row[\"month\"]), day=int(row[\"day\"]))\n",
    "    if row_date >= cutoff_date:\n",
    "      batch.append({\n",
    "        \"year\": int(row[\"year\"]),\n",
    "        \"month\": int(row[\"month\"]),\n",
    "        \"day\": int(row[\"day\"]),\n",
    "        \"intake\": int(row[\"intake\"]),\n",
    "        \"averagePrice\": int(row[\"avg_price\"]),\n",
    "        \"gap\": int(row[\"gap\"]),\n",
    "        \"grade\": row[\"rate\"].upper()\n",
    "      })\n",
    "\n",
    "if batch:\n",
    "  response = requests.post(url, json=batch)\n",
    "  if response.status_code == 200:\n",
    "    print(\"전송 성공\")\n",
    "  else:\n",
    "    print(f\"실패: {response.status_code} - {response.text}\")\n",
    "else:\n",
    "  print(\"전송할 데이터 없음\")\n"
   ]
  }
 ],
 "metadata": {
  "kernelspec": {
   "display_name": "Python 3",
   "language": "python",
   "name": "python3"
  },
  "language_info": {
   "codemirror_mode": {
    "name": "ipython",
    "version": 3
   },
   "file_extension": ".py",
   "mimetype": "text/x-python",
   "name": "python",
   "nbconvert_exporter": "python",
   "pygments_lexer": "ipython3",
   "version": "3.12.2"
  }
 },
 "nbformat": 4,
 "nbformat_minor": 5
}
